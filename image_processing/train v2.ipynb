{
 "cells": [
  {
   "cell_type": "code",
   "execution_count": 1,
   "metadata": {},
   "outputs": [],
   "source": [
    "import torch\n",
    "from torch import nn\n",
    "from torch.utils.data import DataLoader, Dataset\n",
    "import torchvision\n",
    "from pytorch_lightning import LightningModule, Trainer\n",
    "import kornia as K\n",
    "\n",
    "# import numpy as np\n",
    "import matplotlib.pyplot as plt\n",
    "# import plotly.express as px\n",
    "# from PIL import Image\n",
    "\n",
    "from sklearn.model_selection import train_test_split\n",
    "import os\n",
    "\n",
    "%matplotlib inline"
   ]
  },
  {
   "cell_type": "code",
   "execution_count": 2,
   "metadata": {},
   "outputs": [],
   "source": [
    "torch.cuda.empty_cache()\n",
    "device = torch.device(\"cuda:0\" if torch.cuda.is_available() else \"cpu\")\n",
    "\n",
    "PATH_IMAGE =  '../AerialImageDataset/crop/images/'\n",
    "PATH_MASK =  '../AerialImageDataset/crop/gt/'\n",
    "\n",
    "list_mask = os.listdir(PATH_MASK)\n",
    "list_img = os.listdir(PATH_IMAGE)"
   ]
  },
  {
   "cell_type": "code",
   "execution_count": 3,
   "metadata": {},
   "outputs": [],
   "source": [
    "my_list = list(set(list_mask) & set(list_img))"
   ]
  },
  {
   "cell_type": "code",
   "execution_count": 4,
   "metadata": {},
   "outputs": [],
   "source": [
    "train, val = train_test_split(my_list, train_size=0.8)"
   ]
  },
  {
   "cell_type": "code",
   "execution_count": 5,
   "metadata": {},
   "outputs": [
    {
     "data": {
      "text/plain": [
       "(14400, 3600, 18000)"
      ]
     },
     "execution_count": 5,
     "metadata": {},
     "output_type": "execute_result"
    }
   ],
   "source": [
    "len(train), len(val), len(my_list)"
   ]
  },
  {
   "cell_type": "code",
   "execution_count": 6,
   "metadata": {},
   "outputs": [],
   "source": [
    "from torch._C import Size\n",
    "# define some augmentations\n",
    "class Preprocessing(nn.Module):\n",
    "    # to dataloader\n",
    "    _preprocess =  K.augmentation.AugmentationSequential(\n",
    "    K.augmentation.RandomCrop((320, 320)),\n",
    "    K.augmentation.RandomHorizontalFlip(p=0.5),\n",
    "    K.augmentation.RandomVerticalFlip(p=0.5),\n",
    "    # K.augmentation.Normalize([0.485, 0.456, 0.406], [0.229, 0.224, 0.225]),\n",
    "    data_keys=['input', 'mask'],\n",
    "    )\n",
    "\n",
    "    def __init__(self):\n",
    "        super(Preprocessing, self).__init__()\n",
    "        \n",
    "    @torch.no_grad()\n",
    "    def forward(self, img: torch.Tensor, mask: torch.Tensor) -> torch.Tensor:\n",
    "        x, y = self.preprocess(img, mask)\n",
    "        return x[0], y[0]\n",
    "\n",
    "    def preprocess(self, img: torch.Tensor, mask: torch.Tensor) -> dict:\n",
    "        return self._preprocess(img, mask)\n",
    "\n",
    "\n",
    "class Augmentation(nn.Module):\n",
    "    # to SegModel\n",
    "    _augmentations = K.augmentation.AugmentationSequential(\n",
    "    K.augmentation.RandomCrop((320, 320)),\n",
    "    K.augmentation.RandomHorizontalFlip(p=0.5),\n",
    "    K.augmentation.RandomVerticalFlip(p=0.5),\n",
    "    K.augmentation.RandomPlanckianJitter( p=0.3),\n",
    "    # K.augmentation.RandomChannelShuffle(p=0.5),\n",
    "    K.augmentation.RandomEqualize(p=0.3),\n",
    "    K.augmentation.RandomAffine([-45., 45.], [0., 0.15], [0.5, 1.5], [0., 0.15], p=0.6),\n",
    "    K.augmentation.RandomBoxBlur((3,3), p=0.2),\n",
    "    # K.augmentation.RandomGaussianNoise(p=0.2),\n",
    "    # K.augmentation.RandomMotionBlur(3, 35., 0.5, p=0.2),\n",
    "    # K.augmentation.RandomPosterize(p=0.1),\n",
    "    # K.augmentation.RandomPerspective(p=0.1),\n",
    "    # K.augmentation.RandomElasticTransform(p=0.1),\n",
    "    # K.augmentation.RandomSharpness(p=0.2),\n",
    "    K.augmentation.RandomRotation(20, p=0.8),\n",
    "    K.augmentation.Normalize([0.485, 0.456, 0.406], [0.229, 0.224, 0.225]),\n",
    "    data_keys=['input', 'mask'],\n",
    "    same_on_batch=False,\n",
    "    )\n",
    "\n",
    "    def __init__(self):\n",
    "        super(Augmentation, self).__init__()\n",
    "\n",
    "    @torch.no_grad()\n",
    "    def forward(self, img: torch.Tensor, mask: torch.Tensor) -> torch.Tensor:\n",
    "        \n",
    "        x, y = self.augmentations(img, mask)\n",
    "        return x[0], y[0]\n",
    "\n",
    "    def augmentations(self, img: torch.Tensor, mask: torch.Tensor) -> dict:\n",
    "        x, y = self._augmentations(img, mask)\n",
    "        return x, y\n"
   ]
  },
  {
   "cell_type": "code",
   "execution_count": 7,
   "metadata": {},
   "outputs": [],
   "source": [
    "Pre = Preprocessing()\n",
    "Aug = Augmentation()"
   ]
  },
  {
   "cell_type": "code",
   "execution_count": 8,
   "metadata": {},
   "outputs": [],
   "source": [
    "class GeoDataset(Dataset):\n",
    "\n",
    "    def __init__(self,\n",
    "     list_names, preprocess, c, h, w):\n",
    "        self.shared_image = torch.zeros(c, h, w).share_memory_()\n",
    "        self.shared_mask = torch.zeros(1, h, w).share_memory_()\n",
    "        self.preprocess = preprocess\n",
    "        self.list_names = list_names\n",
    "\n",
    "    @torch.no_grad()\n",
    "    def get_img(self, idx):\n",
    "        if type(self.list_names) ==  list:\n",
    "            # name = random.choice(self.list_names)\n",
    "            # name = next(iter(self.list_names))\n",
    "            name = self.list_names[idx]\n",
    "        image_name = PATH_IMAGE + f'{name}'\n",
    "        mask_name = PATH_MASK + f'{name}'\n",
    "        self.shared_image = torchvision.io.read_image(image_name) / 255.\n",
    "        self.shared_mask = torchvision.io.read_image(mask_name) / 255.\n",
    "\n",
    "    def __len__(self):\n",
    "        return len(self.list_names)\n",
    "    \n",
    "    def __getitem__(self, idx):\n",
    "        # if idx%10 == 0:  \n",
    "        self.get_img(idx)\n",
    "        return self.preprocess(self.shared_image, self.shared_mask)"
   ]
  },
  {
   "cell_type": "code",
   "execution_count": 9,
   "metadata": {},
   "outputs": [],
   "source": [
    "train_dataset = GeoDataset(\n",
    "    # image=image_train, mask=mask_train, \n",
    "    preprocess=Aug,\n",
    "    list_names=train,\n",
    "    c=3, h=500, w=500)\n",
    "train_dataloader = DataLoader(train_dataset, batch_size=4, \n",
    "                              num_workers=16, \n",
    "                              shuffle=True)\n",
    "val_dataset = GeoDataset(\n",
    "    # image=image_train, mask=mask_train, \n",
    "    preprocess=Pre,\n",
    "    list_names=val,\n",
    "    c=3, h=500, w=500)\n",
    "val_dataloader = DataLoader(val_dataset, batch_size=4, \n",
    "                            num_workers=16\n",
    "                            )"
   ]
  },
  {
   "cell_type": "code",
   "execution_count": 10,
   "metadata": {},
   "outputs": [],
   "source": [
    "# for i, m in train_dataloader:\n",
    "#     print(i.shape, m.shape)"
   ]
  },
  {
   "cell_type": "code",
   "execution_count": 11,
   "metadata": {},
   "outputs": [],
   "source": [
    "i, m = next(iter(val_dataloader))\n"
   ]
  },
  {
   "cell_type": "code",
   "execution_count": 12,
   "metadata": {},
   "outputs": [
    {
     "data": {
      "text/plain": [
       "(torch.Size([4, 3, 320, 320]), torch.Size([4, 1, 320, 320]))"
      ]
     },
     "execution_count": 12,
     "metadata": {},
     "output_type": "execute_result"
    }
   ],
   "source": [
    "i.shape, m.shape"
   ]
  },
  {
   "cell_type": "code",
   "execution_count": 13,
   "metadata": {},
   "outputs": [],
   "source": [
    "import segmentation_models_pytorch as smp"
   ]
  },
  {
   "cell_type": "code",
   "execution_count": 14,
   "metadata": {},
   "outputs": [],
   "source": [
    "ENCODER = 'resnet50'\n",
    "ENCODER_WEIGHTS = 'imagenet'\n",
    "CLASSES = ['building']\n",
    "ACTIVATION = 'sigmoid' # could be None for logits or 'softmax2d' for multicalss segmentation\n",
    "DEVICE = 'cuda'\n",
    "\n",
    "# create segmentation model with pretrained encoder\n",
    "model = smp.Unet(\n",
    "    encoder_name=ENCODER, \n",
    "    encoder_weights=ENCODER_WEIGHTS, \n",
    "    classes=len(CLASSES), \n",
    "    activation=ACTIVATION,\n",
    ")"
   ]
  },
  {
   "cell_type": "code",
   "execution_count": 15,
   "metadata": {},
   "outputs": [],
   "source": [
    "loss = smp.losses.DiceLoss(mode='binary')\n",
    "metric = smp.losses.JaccardLoss(mode='binary')"
   ]
  },
  {
   "cell_type": "code",
   "execution_count": 16,
   "metadata": {},
   "outputs": [],
   "source": [
    "class SemSegment(LightningModule):\n",
    "    def __init__(\n",
    "        self,\n",
    "        lr: float = 0.001,\n",
    "        num_classes: int = 1,\n",
    "        bilinear: bool = False,\n",
    "    ):\n",
    "        super().__init__()\n",
    "\n",
    "        self.bilinear = bilinear\n",
    "        self.lr = lr\n",
    "        # self.net = smp.Unet(encoder_name='resnet18', classes=num_classes)\n",
    "    #     self.net = torch.hub.load('mateuszbuda/brain-segmentation-pytorch', 'unet',\n",
    "    # in_channels=3, out_channels=num_classes, init_features=32, pretrained=False)\n",
    "        self.net = model\n",
    "        self.loss = loss\n",
    "        self.metric = metric\n",
    "\n",
    "    def forward(self, x):\n",
    "        return self.net(x)\n",
    "\n",
    "    def training_step(self, batch, batch_nb):\n",
    "        img, mask = batch\n",
    "        out = self(img.float())\n",
    "        # out[out >= 0.5] = 1.\n",
    "        # out[out < 0.5] = 0\n",
    "        # print(f'img size {img.shape}  out size {out.shape}  mask size {mask.shape}')\n",
    "        loss_train_dice = self.loss(out, mask.float())\n",
    "        metric = self.metric(out, mask.float())\n",
    "        # Логи тренировочных шагов для tensorboard\n",
    "        self.log('train_dice_step', loss_train_dice, on_step=True, )\n",
    "\n",
    "        return {\"loss\": metric, \"log\": metric.detach(), \"progress_bar\": loss_train_dice.detach()}\n",
    "\n",
    "    def validation_step(self, batch, batch_idx):\n",
    "        img, mask = batch\n",
    "        # print(img.shape, mask.shape)\n",
    "        out = self(img.float())\n",
    "        # out[out >= 0.5] = 1.\n",
    "        # out[out < 0.5] = 0\n",
    "        # print(img.shape, mask.shape, out.shape)\n",
    "        # print(f'img size {img.shape}  out size {out.shape}  mask size {mask.shape}')\n",
    "        # loss_val_dice = self.loss(out, mask.float())\n",
    "        metric = self.metric(out, mask.float())\n",
    "        # Логи валидационных шагов для tensorboard\n",
    "        self.log('val_loss_step', metric, on_step=True)\n",
    "\n",
    "        return {\"val_loss\": metric}\n",
    "\n",
    "\n",
    "    def validation_epoch_end(self, outputs):\n",
    "        loss_val = torch.stack([x[\"val_loss\"] for x in outputs]).mean()\n",
    "        log_dict = {\"val_loss\": loss_val.detach()}\n",
    "        # Логи валидационных эпох для tensorboard\n",
    "        self.log('val_epoch_total_step', log_dict['val_loss'], on_epoch=True)\n",
    "\n",
    "        return log_dict\n",
    "\n",
    "    def configure_optimizers(self):\n",
    "        optimizer = torch.optim.Adam(self.net.parameters(), lr=self.lr)\n",
    "        scheduler = {\n",
    "            'scheduler': torch.optim.lr_scheduler.ReduceLROnPlateau(optimizer, 'min'),\n",
    "            'monitor' : 'train_dice_step',\n",
    "        }\n",
    "        return {\n",
    "                \"optimizer\": optimizer,\n",
    "                \"lr_scheduler\": scheduler,\n",
    "                }\n"
   ]
  },
  {
   "cell_type": "code",
   "execution_count": 17,
   "metadata": {},
   "outputs": [],
   "source": [
    "from pytorch_lightning.callbacks import ModelCheckpoint"
   ]
  },
  {
   "cell_type": "code",
   "execution_count": 18,
   "metadata": {},
   "outputs": [],
   "source": [
    "# model = SemSegment.load_from_checkpoint('lightning_logs/best/epoch=222-step=16501.ckpt')\n",
    "model = SemSegment()\n",
    "checkpoint_callback = ModelCheckpoint(dirpath=f\"lightning_logs/best__{ENCODER}\", save_top_k=2, monitor=\"val_epoch_total_step\")"
   ]
  },
  {
   "cell_type": "code",
   "execution_count": 19,
   "metadata": {},
   "outputs": [
    {
     "name": "stderr",
     "output_type": "stream",
     "text": [
      "GPU available: True, used: True\n",
      "TPU available: False, using: 0 TPU cores\n",
      "IPU available: False, using: 0 IPUs\n"
     ]
    }
   ],
   "source": [
    "trainer = Trainer(gpus=1,\n",
    " max_epochs=500,\n",
    " callbacks=[checkpoint_callback]\n",
    " )"
   ]
  },
  {
   "cell_type": "code",
   "execution_count": 20,
   "metadata": {},
   "outputs": [
    {
     "name": "stderr",
     "output_type": "stream",
     "text": [
      "LOCAL_RANK: 0 - CUDA_VISIBLE_DEVICES: [0]\n",
      "\n",
      "  | Name   | Type        | Params\n",
      "---------------------------------------\n",
      "0 | net    | Unet        | 32.5 M\n",
      "1 | loss   | DiceLoss    | 0     \n",
      "2 | metric | JaccardLoss | 0     \n",
      "---------------------------------------\n",
      "32.5 M    Trainable params\n",
      "0         Non-trainable params\n",
      "32.5 M    Total params\n",
      "130.084   Total estimated model params size (MB)\n",
      "/home/tims/miniconda3/envs/geo/lib/python3.9/site-packages/pytorch_lightning/callbacks/model_checkpoint.py:623: UserWarning: Checkpoint directory /home/tims/work/myprojects/geo/image_processing/lightning_logs/best__resnet50 exists and is not empty.\n",
      "  rank_zero_warn(f\"Checkpoint directory {dirpath} exists and is not empty.\")\n"
     ]
    },
    {
     "data": {
      "application/vnd.jupyter.widget-view+json": {
       "model_id": "b45bfd3fd95f4ada8d8882a7d25a5f4c",
       "version_major": 2,
       "version_minor": 0
      },
      "text/plain": [
       "Validation sanity check: 0it [00:00, ?it/s]"
      ]
     },
     "metadata": {},
     "output_type": "display_data"
    },
    {
     "data": {
      "application/vnd.jupyter.widget-view+json": {
       "model_id": "44ca5530d13240d59cce56cdee66d1d9",
       "version_major": 2,
       "version_minor": 0
      },
      "text/plain": [
       "Training: 0it [00:00, ?it/s]"
      ]
     },
     "metadata": {},
     "output_type": "display_data"
    },
    {
     "data": {
      "application/vnd.jupyter.widget-view+json": {
       "model_id": "d383c9a8b7e9452983bba5488beb682d",
       "version_major": 2,
       "version_minor": 0
      },
      "text/plain": [
       "Validating: 0it [00:00, ?it/s]"
      ]
     },
     "metadata": {},
     "output_type": "display_data"
    },
    {
     "data": {
      "application/vnd.jupyter.widget-view+json": {
       "model_id": "0e446e7fe4c347449ef75d485d923050",
       "version_major": 2,
       "version_minor": 0
      },
      "text/plain": [
       "Validating: 0it [00:00, ?it/s]"
      ]
     },
     "metadata": {},
     "output_type": "display_data"
    },
    {
     "data": {
      "application/vnd.jupyter.widget-view+json": {
       "model_id": "e371ca2adac9435a9851bb1065ad72ae",
       "version_major": 2,
       "version_minor": 0
      },
      "text/plain": [
       "Validating: 0it [00:00, ?it/s]"
      ]
     },
     "metadata": {},
     "output_type": "display_data"
    },
    {
     "data": {
      "application/vnd.jupyter.widget-view+json": {
       "model_id": "3acbadbb6d6c4486b25a63347cb36d3e",
       "version_major": 2,
       "version_minor": 0
      },
      "text/plain": [
       "Validating: 0it [00:00, ?it/s]"
      ]
     },
     "metadata": {},
     "output_type": "display_data"
    },
    {
     "data": {
      "application/vnd.jupyter.widget-view+json": {
       "model_id": "f253c94b4e5f4809b1f6a17a45ff7a12",
       "version_major": 2,
       "version_minor": 0
      },
      "text/plain": [
       "Validating: 0it [00:00, ?it/s]"
      ]
     },
     "metadata": {},
     "output_type": "display_data"
    },
    {
     "data": {
      "application/vnd.jupyter.widget-view+json": {
       "model_id": "3dac410e3dd84822934320632f104f25",
       "version_major": 2,
       "version_minor": 0
      },
      "text/plain": [
       "Validating: 0it [00:00, ?it/s]"
      ]
     },
     "metadata": {},
     "output_type": "display_data"
    },
    {
     "data": {
      "application/vnd.jupyter.widget-view+json": {
       "model_id": "f3b2dc0ce0e6477ca9574c473687472d",
       "version_major": 2,
       "version_minor": 0
      },
      "text/plain": [
       "Validating: 0it [00:00, ?it/s]"
      ]
     },
     "metadata": {},
     "output_type": "display_data"
    },
    {
     "data": {
      "application/vnd.jupyter.widget-view+json": {
       "model_id": "46296010a6d4495e9125a20eee5fc981",
       "version_major": 2,
       "version_minor": 0
      },
      "text/plain": [
       "Validating: 0it [00:00, ?it/s]"
      ]
     },
     "metadata": {},
     "output_type": "display_data"
    },
    {
     "data": {
      "application/vnd.jupyter.widget-view+json": {
       "model_id": "aff589c6fafc4c3789bc04d67ab74c03",
       "version_major": 2,
       "version_minor": 0
      },
      "text/plain": [
       "Validating: 0it [00:00, ?it/s]"
      ]
     },
     "metadata": {},
     "output_type": "display_data"
    },
    {
     "data": {
      "application/vnd.jupyter.widget-view+json": {
       "model_id": "f5dc04cbe8d44a8e948ab41ea13be3a2",
       "version_major": 2,
       "version_minor": 0
      },
      "text/plain": [
       "Validating: 0it [00:00, ?it/s]"
      ]
     },
     "metadata": {},
     "output_type": "display_data"
    },
    {
     "data": {
      "application/vnd.jupyter.widget-view+json": {
       "model_id": "80fccf267fd2427a993d8e91bcbd3153",
       "version_major": 2,
       "version_minor": 0
      },
      "text/plain": [
       "Validating: 0it [00:00, ?it/s]"
      ]
     },
     "metadata": {},
     "output_type": "display_data"
    },
    {
     "data": {
      "application/vnd.jupyter.widget-view+json": {
       "model_id": "f9e4614fa5024992ab3d98b5c4084752",
       "version_major": 2,
       "version_minor": 0
      },
      "text/plain": [
       "Validating: 0it [00:00, ?it/s]"
      ]
     },
     "metadata": {},
     "output_type": "display_data"
    },
    {
     "data": {
      "application/vnd.jupyter.widget-view+json": {
       "model_id": "8273f78ab2964373aa877bec976159b2",
       "version_major": 2,
       "version_minor": 0
      },
      "text/plain": [
       "Validating: 0it [00:00, ?it/s]"
      ]
     },
     "metadata": {},
     "output_type": "display_data"
    },
    {
     "data": {
      "application/vnd.jupyter.widget-view+json": {
       "model_id": "a4edef4e1d8c47e996afe9dafc8108e9",
       "version_major": 2,
       "version_minor": 0
      },
      "text/plain": [
       "Validating: 0it [00:00, ?it/s]"
      ]
     },
     "metadata": {},
     "output_type": "display_data"
    },
    {
     "data": {
      "application/vnd.jupyter.widget-view+json": {
       "model_id": "b2d16ef119404f9594690e0195b5e96c",
       "version_major": 2,
       "version_minor": 0
      },
      "text/plain": [
       "Validating: 0it [00:00, ?it/s]"
      ]
     },
     "metadata": {},
     "output_type": "display_data"
    },
    {
     "data": {
      "application/vnd.jupyter.widget-view+json": {
       "model_id": "16f4fb990069432f82c8440337af4113",
       "version_major": 2,
       "version_minor": 0
      },
      "text/plain": [
       "Validating: 0it [00:00, ?it/s]"
      ]
     },
     "metadata": {},
     "output_type": "display_data"
    },
    {
     "data": {
      "application/vnd.jupyter.widget-view+json": {
       "model_id": "bf01853b2f874cdc9c6034d17e604ad9",
       "version_major": 2,
       "version_minor": 0
      },
      "text/plain": [
       "Validating: 0it [00:00, ?it/s]"
      ]
     },
     "metadata": {},
     "output_type": "display_data"
    },
    {
     "data": {
      "application/vnd.jupyter.widget-view+json": {
       "model_id": "2281214b74604194bf55391afac39cc8",
       "version_major": 2,
       "version_minor": 0
      },
      "text/plain": [
       "Validating: 0it [00:00, ?it/s]"
      ]
     },
     "metadata": {},
     "output_type": "display_data"
    },
    {
     "data": {
      "application/vnd.jupyter.widget-view+json": {
       "model_id": "166d266a0a3d4db8b2f0d6c256d12f16",
       "version_major": 2,
       "version_minor": 0
      },
      "text/plain": [
       "Validating: 0it [00:00, ?it/s]"
      ]
     },
     "metadata": {},
     "output_type": "display_data"
    },
    {
     "data": {
      "application/vnd.jupyter.widget-view+json": {
       "model_id": "af95edc814004ef6a8852db3341ecd06",
       "version_major": 2,
       "version_minor": 0
      },
      "text/plain": [
       "Validating: 0it [00:00, ?it/s]"
      ]
     },
     "metadata": {},
     "output_type": "display_data"
    },
    {
     "data": {
      "application/vnd.jupyter.widget-view+json": {
       "model_id": "81040e4284a447fe856ec7cffcc4bcc5",
       "version_major": 2,
       "version_minor": 0
      },
      "text/plain": [
       "Validating: 0it [00:00, ?it/s]"
      ]
     },
     "metadata": {},
     "output_type": "display_data"
    },
    {
     "data": {
      "application/vnd.jupyter.widget-view+json": {
       "model_id": "515e3853b57045368f0df2388c671f83",
       "version_major": 2,
       "version_minor": 0
      },
      "text/plain": [
       "Validating: 0it [00:00, ?it/s]"
      ]
     },
     "metadata": {},
     "output_type": "display_data"
    },
    {
     "data": {
      "application/vnd.jupyter.widget-view+json": {
       "model_id": "18d74fe3b0fc4222850919a7e5dc1988",
       "version_major": 2,
       "version_minor": 0
      },
      "text/plain": [
       "Validating: 0it [00:00, ?it/s]"
      ]
     },
     "metadata": {},
     "output_type": "display_data"
    },
    {
     "data": {
      "application/vnd.jupyter.widget-view+json": {
       "model_id": "b19739b0960d44d5991774bc40290a7f",
       "version_major": 2,
       "version_minor": 0
      },
      "text/plain": [
       "Validating: 0it [00:00, ?it/s]"
      ]
     },
     "metadata": {},
     "output_type": "display_data"
    },
    {
     "data": {
      "application/vnd.jupyter.widget-view+json": {
       "model_id": "717132bcb84d44bfa7f84924678ffab2",
       "version_major": 2,
       "version_minor": 0
      },
      "text/plain": [
       "Validating: 0it [00:00, ?it/s]"
      ]
     },
     "metadata": {},
     "output_type": "display_data"
    },
    {
     "data": {
      "application/vnd.jupyter.widget-view+json": {
       "model_id": "51bec3baacf14de99022399cec63dcc3",
       "version_major": 2,
       "version_minor": 0
      },
      "text/plain": [
       "Validating: 0it [00:00, ?it/s]"
      ]
     },
     "metadata": {},
     "output_type": "display_data"
    },
    {
     "data": {
      "application/vnd.jupyter.widget-view+json": {
       "model_id": "395c5dd17aaf45498978f86b3a275d2c",
       "version_major": 2,
       "version_minor": 0
      },
      "text/plain": [
       "Validating: 0it [00:00, ?it/s]"
      ]
     },
     "metadata": {},
     "output_type": "display_data"
    },
    {
     "data": {
      "application/vnd.jupyter.widget-view+json": {
       "model_id": "72b7081d18e34d77a68ed3c20ae51f2f",
       "version_major": 2,
       "version_minor": 0
      },
      "text/plain": [
       "Validating: 0it [00:00, ?it/s]"
      ]
     },
     "metadata": {},
     "output_type": "display_data"
    },
    {
     "data": {
      "application/vnd.jupyter.widget-view+json": {
       "model_id": "38aa3aa151bd4defbe216bdcb822c639",
       "version_major": 2,
       "version_minor": 0
      },
      "text/plain": [
       "Validating: 0it [00:00, ?it/s]"
      ]
     },
     "metadata": {},
     "output_type": "display_data"
    },
    {
     "data": {
      "application/vnd.jupyter.widget-view+json": {
       "model_id": "707cdbe276a0446c975afc429b84ce19",
       "version_major": 2,
       "version_minor": 0
      },
      "text/plain": [
       "Validating: 0it [00:00, ?it/s]"
      ]
     },
     "metadata": {},
     "output_type": "display_data"
    },
    {
     "data": {
      "application/vnd.jupyter.widget-view+json": {
       "model_id": "bad21e2eecc1445ab62b50a9b8b658a2",
       "version_major": 2,
       "version_minor": 0
      },
      "text/plain": [
       "Validating: 0it [00:00, ?it/s]"
      ]
     },
     "metadata": {},
     "output_type": "display_data"
    },
    {
     "data": {
      "application/vnd.jupyter.widget-view+json": {
       "model_id": "1cbd59dd092a407aa95c463b1236e845",
       "version_major": 2,
       "version_minor": 0
      },
      "text/plain": [
       "Validating: 0it [00:00, ?it/s]"
      ]
     },
     "metadata": {},
     "output_type": "display_data"
    },
    {
     "data": {
      "application/vnd.jupyter.widget-view+json": {
       "model_id": "a7e8c293cd4d4e1cb6eaa0d252b632b9",
       "version_major": 2,
       "version_minor": 0
      },
      "text/plain": [
       "Validating: 0it [00:00, ?it/s]"
      ]
     },
     "metadata": {},
     "output_type": "display_data"
    },
    {
     "data": {
      "application/vnd.jupyter.widget-view+json": {
       "model_id": "b10547ba852b44478a5ae9edac0a70b1",
       "version_major": 2,
       "version_minor": 0
      },
      "text/plain": [
       "Validating: 0it [00:00, ?it/s]"
      ]
     },
     "metadata": {},
     "output_type": "display_data"
    },
    {
     "data": {
      "application/vnd.jupyter.widget-view+json": {
       "model_id": "b175067f3ca04f29800a1eba815d504e",
       "version_major": 2,
       "version_minor": 0
      },
      "text/plain": [
       "Validating: 0it [00:00, ?it/s]"
      ]
     },
     "metadata": {},
     "output_type": "display_data"
    },
    {
     "data": {
      "application/vnd.jupyter.widget-view+json": {
       "model_id": "8a644c7dd2bc4a4f9017c10c35267f35",
       "version_major": 2,
       "version_minor": 0
      },
      "text/plain": [
       "Validating: 0it [00:00, ?it/s]"
      ]
     },
     "metadata": {},
     "output_type": "display_data"
    },
    {
     "data": {
      "application/vnd.jupyter.widget-view+json": {
       "model_id": "6f46059a5a474a14a20d22ae0c67467d",
       "version_major": 2,
       "version_minor": 0
      },
      "text/plain": [
       "Validating: 0it [00:00, ?it/s]"
      ]
     },
     "metadata": {},
     "output_type": "display_data"
    },
    {
     "data": {
      "application/vnd.jupyter.widget-view+json": {
       "model_id": "e11f97f2edd34d81b82fc06a07922849",
       "version_major": 2,
       "version_minor": 0
      },
      "text/plain": [
       "Validating: 0it [00:00, ?it/s]"
      ]
     },
     "metadata": {},
     "output_type": "display_data"
    },
    {
     "data": {
      "application/vnd.jupyter.widget-view+json": {
       "model_id": "17727c4c94e64525a92c41811d1f6cc1",
       "version_major": 2,
       "version_minor": 0
      },
      "text/plain": [
       "Validating: 0it [00:00, ?it/s]"
      ]
     },
     "metadata": {},
     "output_type": "display_data"
    },
    {
     "data": {
      "application/vnd.jupyter.widget-view+json": {
       "model_id": "1e7cc634d2814da5ac04609709fd8e29",
       "version_major": 2,
       "version_minor": 0
      },
      "text/plain": [
       "Validating: 0it [00:00, ?it/s]"
      ]
     },
     "metadata": {},
     "output_type": "display_data"
    },
    {
     "data": {
      "application/vnd.jupyter.widget-view+json": {
       "model_id": "7ceae7eb778446cbaf4c251a99e9320f",
       "version_major": 2,
       "version_minor": 0
      },
      "text/plain": [
       "Validating: 0it [00:00, ?it/s]"
      ]
     },
     "metadata": {},
     "output_type": "display_data"
    },
    {
     "data": {
      "application/vnd.jupyter.widget-view+json": {
       "model_id": "09a2dc4686f04afe92d71eb0683a9067",
       "version_major": 2,
       "version_minor": 0
      },
      "text/plain": [
       "Validating: 0it [00:00, ?it/s]"
      ]
     },
     "metadata": {},
     "output_type": "display_data"
    },
    {
     "data": {
      "application/vnd.jupyter.widget-view+json": {
       "model_id": "47665c9b6e7c4330907ae72ff9cef98e",
       "version_major": 2,
       "version_minor": 0
      },
      "text/plain": [
       "Validating: 0it [00:00, ?it/s]"
      ]
     },
     "metadata": {},
     "output_type": "display_data"
    },
    {
     "data": {
      "application/vnd.jupyter.widget-view+json": {
       "model_id": "c3f17a95200949ada4f82cfb3b8eb61c",
       "version_major": 2,
       "version_minor": 0
      },
      "text/plain": [
       "Validating: 0it [00:00, ?it/s]"
      ]
     },
     "metadata": {},
     "output_type": "display_data"
    },
    {
     "data": {
      "application/vnd.jupyter.widget-view+json": {
       "model_id": "761c3e2283144fd2a895b476fb8754a6",
       "version_major": 2,
       "version_minor": 0
      },
      "text/plain": [
       "Validating: 0it [00:00, ?it/s]"
      ]
     },
     "metadata": {},
     "output_type": "display_data"
    },
    {
     "data": {
      "application/vnd.jupyter.widget-view+json": {
       "model_id": "e8e64d0571b94d119604a7358056aa8c",
       "version_major": 2,
       "version_minor": 0
      },
      "text/plain": [
       "Validating: 0it [00:00, ?it/s]"
      ]
     },
     "metadata": {},
     "output_type": "display_data"
    },
    {
     "data": {
      "application/vnd.jupyter.widget-view+json": {
       "model_id": "7fccf86491b840a29a5581a00c79398a",
       "version_major": 2,
       "version_minor": 0
      },
      "text/plain": [
       "Validating: 0it [00:00, ?it/s]"
      ]
     },
     "metadata": {},
     "output_type": "display_data"
    },
    {
     "data": {
      "application/vnd.jupyter.widget-view+json": {
       "model_id": "4b51a1e0ae594bc1b3f68e3f293a3977",
       "version_major": 2,
       "version_minor": 0
      },
      "text/plain": [
       "Validating: 0it [00:00, ?it/s]"
      ]
     },
     "metadata": {},
     "output_type": "display_data"
    },
    {
     "data": {
      "application/vnd.jupyter.widget-view+json": {
       "model_id": "838cec388bf947a69cd6b928a669373a",
       "version_major": 2,
       "version_minor": 0
      },
      "text/plain": [
       "Validating: 0it [00:00, ?it/s]"
      ]
     },
     "metadata": {},
     "output_type": "display_data"
    },
    {
     "data": {
      "application/vnd.jupyter.widget-view+json": {
       "model_id": "860fbf09c8d04606b297dad79d97c87a",
       "version_major": 2,
       "version_minor": 0
      },
      "text/plain": [
       "Validating: 0it [00:00, ?it/s]"
      ]
     },
     "metadata": {},
     "output_type": "display_data"
    },
    {
     "data": {
      "application/vnd.jupyter.widget-view+json": {
       "model_id": "701ab060d26f4af6ab45b292e1971286",
       "version_major": 2,
       "version_minor": 0
      },
      "text/plain": [
       "Validating: 0it [00:00, ?it/s]"
      ]
     },
     "metadata": {},
     "output_type": "display_data"
    },
    {
     "data": {
      "application/vnd.jupyter.widget-view+json": {
       "model_id": "26a6b503b000417a98e504c19f5fcc4c",
       "version_major": 2,
       "version_minor": 0
      },
      "text/plain": [
       "Validating: 0it [00:00, ?it/s]"
      ]
     },
     "metadata": {},
     "output_type": "display_data"
    },
    {
     "data": {
      "application/vnd.jupyter.widget-view+json": {
       "model_id": "2150883145044730acb77119c426f9f4",
       "version_major": 2,
       "version_minor": 0
      },
      "text/plain": [
       "Validating: 0it [00:00, ?it/s]"
      ]
     },
     "metadata": {},
     "output_type": "display_data"
    },
    {
     "data": {
      "application/vnd.jupyter.widget-view+json": {
       "model_id": "bcd10b866b1c4eb4b97e38208b2cd238",
       "version_major": 2,
       "version_minor": 0
      },
      "text/plain": [
       "Validating: 0it [00:00, ?it/s]"
      ]
     },
     "metadata": {},
     "output_type": "display_data"
    },
    {
     "name": "stderr",
     "output_type": "stream",
     "text": [
      "/home/tims/miniconda3/envs/geo/lib/python3.9/site-packages/pytorch_lightning/trainer/trainer.py:685: UserWarning: Detected KeyboardInterrupt, attempting graceful shutdown...\n",
      "  rank_zero_warn(\"Detected KeyboardInterrupt, attempting graceful shutdown...\")\n"
     ]
    }
   ],
   "source": [
    "trainer.fit(model,\n",
    " train_dataloader, val_dataloader,\n",
    ")"
   ]
  },
  {
   "cell_type": "code",
   "execution_count": null,
   "metadata": {},
   "outputs": [],
   "source": []
  }
 ],
 "metadata": {
  "interpreter": {
   "hash": "24662eed1703b877d4d4acbd1939e713ec14f832bce09515ee4dc58b6b2a72cb"
  },
  "kernelspec": {
   "display_name": "Python 3 (ipykernel)",
   "language": "python",
   "name": "python3"
  },
  "language_info": {
   "codemirror_mode": {
    "name": "ipython",
    "version": 3
   },
   "file_extension": ".py",
   "mimetype": "text/x-python",
   "name": "python",
   "nbconvert_exporter": "python",
   "pygments_lexer": "ipython3",
   "version": "3.9.9"
  }
 },
 "nbformat": 4,
 "nbformat_minor": 4
}
