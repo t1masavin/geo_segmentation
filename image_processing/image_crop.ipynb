{
 "cells": [
  {
   "cell_type": "code",
   "execution_count": 1,
   "metadata": {},
   "outputs": [],
   "source": [
    "import numpy as np\n",
    "import plotly.express as px\n",
    "import cv2\n",
    "\n",
    "%matplotlib inline"
   ]
  },
  {
   "cell_type": "code",
   "execution_count": 2,
   "metadata": {},
   "outputs": [],
   "source": [
    "image1 = cv2.imread('3_2.tif')"
   ]
  },
  {
   "cell_type": "code",
   "execution_count": 3,
   "metadata": {},
   "outputs": [],
   "source": [
    "image2 = np.full_like(image1, 255)"
   ]
  },
  {
   "cell_type": "code",
   "execution_count": 4,
   "metadata": {},
   "outputs": [],
   "source": [
    "image1 = image2 - image1\n",
    "del image2"
   ]
  },
  {
   "cell_type": "code",
   "execution_count": 5,
   "metadata": {},
   "outputs": [],
   "source": [
    "image1[image1 < 255] = 0"
   ]
  },
  {
   "cell_type": "code",
   "execution_count": 6,
   "metadata": {},
   "outputs": [],
   "source": [
    "# fig = px.imshow(image1[:2000, : 2000])\n",
    "# fig.show()"
   ]
  },
  {
   "cell_type": "code",
   "execution_count": 7,
   "metadata": {},
   "outputs": [],
   "source": [
    "image_mask = np.zeros_like(image1)"
   ]
  },
  {
   "cell_type": "code",
   "execution_count": 8,
   "metadata": {},
   "outputs": [],
   "source": [
    "image_mask[:,:,0] = image1[:,:,0] - image1[:,:,1] - image1[:,:,2]\n",
    "image_mask[:,:,1] = image1[:,:,1] - image1[:,:,0] - image1[:,:,2]\n",
    "image_mask[:,:,2] = image1[:,:,2] - image1[:,:,1] - image1[:,:,0]\n",
    "\n",
    "del image1"
   ]
  },
  {
   "cell_type": "code",
   "execution_count": 9,
   "metadata": {},
   "outputs": [],
   "source": [
    "image_mask = image_mask.astype(bool)"
   ]
  },
  {
   "cell_type": "code",
   "execution_count": 10,
   "metadata": {},
   "outputs": [],
   "source": [
    "# fig = px.imshow(image_mask[:2000, : 2000].astype(float))\n",
    "# fig.show()"
   ]
  },
  {
   "cell_type": "code",
   "execution_count": 11,
   "metadata": {},
   "outputs": [],
   "source": [
    "from PIL import Image"
   ]
  },
  {
   "cell_type": "code",
   "execution_count": 12,
   "metadata": {},
   "outputs": [],
   "source": [
    "for j in range(0,image_mask.shape[0], 2000):\n",
    "    for i in range(0,image_mask.shape[1], 2000):\n",
    "        im = image_mask[j: j+3000, i: i+3000, :].astype(float)\n",
    "        # print(im.shape)\n",
    "        if im.shape != (3000, 3000, 3):\n",
    "            im = Image.fromarray((im * 255).astype(np.uint8))\n",
    "            im.save(f'transformed_mask/val/{j}_{i}.png')\n",
    "        else:\n",
    "            im = Image.fromarray((im * 255).astype(np.uint8))\n",
    "            im.save(f'transformed_mask/train/{j}_{i}.png')\n",
    "del image_mask"
   ]
  },
  {
   "cell_type": "code",
   "execution_count": 13,
   "metadata": {},
   "outputs": [],
   "source": [
    "image = cv2.imread('3_3.tif')\n",
    "for j in range(0,image.shape[0], 2000):\n",
    "    for i in range(0,image.shape[1], 2000):\n",
    "        im = image[j: j+3000, i: i+3000, :]\n",
    "        # print(im.shape)\n",
    "        if im.shape != (3000, 3000, 3):\n",
    "            im = Image.fromarray((im).astype(np.uint8))\n",
    "            im.save(f'transformed_image/val/{j}_{i}.png')\n",
    "        else:\n",
    "            im = Image.fromarray((im).astype(np.uint8))\n",
    "            im.save(f'transformed_image/train/{j}_{i}.png')"
   ]
  },
  {
   "cell_type": "code",
   "execution_count": null,
   "metadata": {},
   "outputs": [],
   "source": []
  }
 ],
 "metadata": {
  "interpreter": {
   "hash": "d9854b7f39333caf4e4353742b9cd3d70d5b9a550eda011cb6dfd5c143209e66"
  },
  "kernelspec": {
   "display_name": "Python 3.9.10 ('viz')",
   "language": "python",
   "name": "python3"
  },
  "language_info": {
   "codemirror_mode": {
    "name": "ipython",
    "version": 3
   },
   "file_extension": ".py",
   "mimetype": "text/x-python",
   "name": "python",
   "nbconvert_exporter": "python",
   "pygments_lexer": "ipython3",
   "version": "3.9.9"
  },
  "orig_nbformat": 4
 },
 "nbformat": 4,
 "nbformat_minor": 2
}
